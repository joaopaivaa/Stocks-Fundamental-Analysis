{
  "cells": [
    {
      "cell_type": "markdown",
      "metadata": {},
      "source": [
        "---\n",
        "title: \"Stocks Fundamental Analysis Report\"\n",
        "author: \"João Vitor de Paiva Marcotti\"\n",
        "format: pdf\n",
        "---"
      ],
      "id": "337a5b65"
    },
    {
      "cell_type": "code",
      "metadata": {},
      "source": [
        "#| echo: false\n",
        "\n",
        "import yfinance as yf\n",
        "import pandas as pd\n",
        "import matplotlib.pyplot as plt\n",
        "import matplotlib.dates as mdates\n",
        "import seaborn as sns\n",
        "\n",
        "from analysis_brazil import df_evaluated as df_evaluated_brazil"
      ],
      "id": "e41eb682",
      "execution_count": null,
      "outputs": []
    },
    {
      "cell_type": "code",
      "metadata": {},
      "source": [
        "#| echo: false\n",
        "\n",
        "df_evaluated_brazil = df_evaluated_brazil[:5]\n",
        "stocks_br = df_evaluated_brazil['ticker'].values\n",
        "\n",
        "stock = yf.Ticker(stocks_br[0] + '.SA')\n",
        "\n",
        "income_statement = stock.income_stmt\n",
        "income_statement = income_statement.drop(income_statement.columns[4], axis=1)\n",
        "income_statement = income_statement.T\n",
        "\n",
        "balance_sheet = stock.balance_sheet\n",
        "balance_sheet = balance_sheet.drop(balance_sheet.columns[4], axis=1)\n",
        "balance_sheet = balance_sheet.T"
      ],
      "id": "dbeb6598",
      "execution_count": null,
      "outputs": []
    },
    {
      "cell_type": "code",
      "metadata": {},
      "source": [
        "#| echo: false\n",
        "\n",
        "balance_sheet.index = pd.to_datetime(balance_sheet.index, format='%Y-%m-%d').year.astype(str)\n",
        "balance_sheet.sort_index(ascending=True, inplace=True)\n",
        "\n",
        "income_statement.index = pd.to_datetime(income_statement.index, format='%Y-%m-%d').year.astype(str)\n",
        "income_statement.sort_index(ascending=True, inplace=True)"
      ],
      "id": "43cd572c",
      "execution_count": null,
      "outputs": []
    },
    {
      "cell_type": "code",
      "metadata": {},
      "source": [
        "#| echo: false\n",
        "\n",
        "def positive_variable_printer(df, variable):\n",
        "\n",
        "    if df[variable].values[0] <= df[variable].values[3]:\n",
        "        color = 'green'\n",
        "    else:\n",
        "        color = 'red'\n",
        "\n",
        "    plt.figure(figsize=(10, 5))\n",
        "    plt.title(variable)\n",
        "    plt.plot(df[variable], color=color, marker='o')\n",
        "    plt.ylim(0, df[variable].max() * 1.1)\n",
        "    plt.axhline(df[variable].mean(), color='blue', linestyle='--', label=f'Mean: {df[variable].mean()/1000000000:.3f} B')\n",
        "    plt.legend()\n",
        "    plt.show()\n",
        "\n",
        "def negative_variable_printer(df, variable):\n",
        "\n",
        "    if df[variable].values[0] >= df[variable].values[3]:\n",
        "        color = 'green'\n",
        "    else:\n",
        "        color = 'red'\n",
        "\n",
        "    plt.figure(figsize=(10, 5))\n",
        "    plt.title(variable)\n",
        "    plt.plot(df[variable], color=color, marker='o')\n",
        "    plt.ylim(0, df[variable].max() * 1.1)\n",
        "    plt.axhline(df[variable].mean(), color='blue', linestyle='--', label=f'Mean: {df[variable].mean()/1000000000:.3f} B')\n",
        "    plt.legend()\n",
        "    plt.show()"
      ],
      "id": "21fdd615",
      "execution_count": null,
      "outputs": []
    },
    {
      "cell_type": "markdown",
      "metadata": {},
      "source": [
        "## Brazilian Stocks\n"
      ],
      "id": "3348ad50"
    },
    {
      "cell_type": "code",
      "metadata": {},
      "source": [
        "#| echo: false\n",
        "\n",
        "titulo_secao = f\"{df_evaluated_brazil['name'].values[0]} - {df_evaluated_brazil['ticker'].values[0]}\""
      ],
      "id": "a53dd035",
      "execution_count": null,
      "outputs": []
    },
    {
      "cell_type": "markdown",
      "metadata": {},
      "source": [
        "### `{{titulo_secao}}`\n"
      ],
      "id": "a4a77603"
    },
    {
      "cell_type": "code",
      "metadata": {},
      "source": [
        "#| echo: false\n",
        "\n",
        "titulo_secao = f\"{df_evaluated_brazil['name'].values[1]} - {df_evaluated_brazil['ticker'].values[1]}\""
      ],
      "id": "bc8441ee",
      "execution_count": null,
      "outputs": []
    },
    {
      "cell_type": "markdown",
      "metadata": {},
      "source": [
        "### `{{titulo_secao}}`\n"
      ],
      "id": "a88a6993"
    },
    {
      "cell_type": "code",
      "metadata": {},
      "source": [
        "#| echo: false\n",
        "\n",
        "titulo_secao = f\"{df_evaluated_brazil['name'].values[2]} - {df_evaluated_brazil['ticker'].values[2]}\""
      ],
      "id": "63025946",
      "execution_count": null,
      "outputs": []
    },
    {
      "cell_type": "markdown",
      "metadata": {},
      "source": [
        "### `{{titulo_secao}}`\n"
      ],
      "id": "61753b25"
    },
    {
      "cell_type": "code",
      "metadata": {},
      "source": [
        "#| echo: false\n",
        "\n",
        "titulo_secao = f\"{df_evaluated_brazil['name'].values[3]} - {df_evaluated_brazil['ticker'].values[3]}\""
      ],
      "id": "df75b12d",
      "execution_count": null,
      "outputs": []
    },
    {
      "cell_type": "markdown",
      "metadata": {},
      "source": [
        "### `{{titulo_secao}}`\n"
      ],
      "id": "6f851028"
    },
    {
      "cell_type": "code",
      "metadata": {},
      "source": [
        "#| echo: false\n",
        "\n",
        "titulo_secao = f\"{df_evaluated_brazil['name'].values[4]} - {df_evaluated_brazil['ticker'].values[4]}\""
      ],
      "id": "fc30ab71",
      "execution_count": null,
      "outputs": []
    },
    {
      "cell_type": "markdown",
      "metadata": {},
      "source": [
        "### `{{titulo_secao}}`\n"
      ],
      "id": "2c377e63"
    },
    {
      "cell_type": "code",
      "metadata": {},
      "source": [
        "#| echo: false\n"
      ],
      "id": "ec5da038",
      "execution_count": null,
      "outputs": []
    },
    {
      "cell_type": "code",
      "metadata": {},
      "source": [
        "#| echo: false\n",
        "\n",
        "graphic_printer(income_statement, 'EBIT')"
      ],
      "id": "46140493",
      "execution_count": null,
      "outputs": []
    },
    {
      "cell_type": "code",
      "metadata": {},
      "source": [
        "#| echo: false\n",
        "\n",
        "df = df_evaluated_brazil.copy()\n",
        "df = df[['ticker', 'name', 'Portfolio %', 'Portfolio Value']]\n",
        "\n",
        "df.columns = ['Ticker', 'Name', 'Portfolio %', 'Portfolio Value']\n",
        "\n",
        "pdf_filename = \"top10_brazil_stocks.pdf\""
      ],
      "id": "661d2abe",
      "execution_count": null,
      "outputs": []
    },
    {
      "cell_type": "code",
      "metadata": {},
      "source": [
        "#| echo: false\n"
      ],
      "id": "3cb21f8f",
      "execution_count": null,
      "outputs": []
    },
    {
      "cell_type": "code",
      "metadata": {},
      "source": [
        "#| echo: false\n"
      ],
      "id": "7bc6edbf",
      "execution_count": null,
      "outputs": []
    },
    {
      "cell_type": "code",
      "metadata": {},
      "source": [
        "#| echo: false\n"
      ],
      "id": "fdba1c01",
      "execution_count": null,
      "outputs": []
    },
    {
      "cell_type": "code",
      "metadata": {},
      "source": [
        "#| echo: false\n"
      ],
      "id": "a7da8175",
      "execution_count": null,
      "outputs": []
    },
    {
      "cell_type": "code",
      "metadata": {},
      "source": [
        "#| echo: false\n"
      ],
      "id": "3fbc4bfe",
      "execution_count": null,
      "outputs": []
    },
    {
      "cell_type": "code",
      "metadata": {},
      "source": [
        "#| echo: false\n"
      ],
      "id": "6207505c",
      "execution_count": null,
      "outputs": []
    },
    {
      "cell_type": "code",
      "metadata": {},
      "source": [
        "#| echo: false\n"
      ],
      "id": "03fc2a04",
      "execution_count": null,
      "outputs": []
    },
    {
      "cell_type": "code",
      "metadata": {},
      "source": [
        "#| echo: false\n"
      ],
      "id": "792828c6",
      "execution_count": null,
      "outputs": []
    },
    {
      "cell_type": "code",
      "metadata": {},
      "source": [
        "#| echo: false\n"
      ],
      "id": "ed952cc6",
      "execution_count": null,
      "outputs": []
    },
    {
      "cell_type": "code",
      "metadata": {},
      "source": [
        "#| echo: false\n"
      ],
      "id": "192646cd",
      "execution_count": null,
      "outputs": []
    },
    {
      "cell_type": "code",
      "metadata": {},
      "source": [
        "#| echo: false\n"
      ],
      "id": "00acf45e",
      "execution_count": null,
      "outputs": []
    }
  ],
  "metadata": {
    "kernelspec": {
      "name": "venv",
      "language": "python",
      "display_name": "Python (venv)",
      "path": "C:\\Users\\joaov\\AppData\\Roaming\\jupyter\\kernels\\venv"
    }
  },
  "nbformat": 4,
  "nbformat_minor": 5
}